{
 "cells": [
  {
   "cell_type": "code",
   "execution_count": null,
   "id": "d7b7c557",
   "metadata": {},
   "outputs": [],
   "source": [
    "import numpy as np\n",
    "import jax.numpy as jnp\n",
    "\n",
    "import json as js\n",
    "\n",
    "import math\n",
    "\n",
    "import sys\n",
    "sys.path.append(r\"./src\")\n",
    "from src.impl import sqp\n",
    "from src.impl import myplot"
   ]
  },
  {
   "cell_type": "code",
   "execution_count": 1,
   "id": "a22e1f3c",
   "metadata": {},
   "outputs": [],
   "source": [
    "import numpy as np\n",
    "import jax\n",
    "import jax.numpy as jnp\n",
    "from jax import jacfwd, jacrev, hessian\n",
    "\n",
    "import json as js\n",
    "\n",
    "import math\n"
   ]
  },
  {
   "cell_type": "code",
   "execution_count": 3,
   "id": "8c4b87fe",
   "metadata": {},
   "outputs": [
    {
     "name": "stderr",
     "output_type": "stream",
     "text": [
      "WARNING:jax._src.lib.xla_bridge:No GPU/TPU found, falling back to CPU. (Set TF_CPP_MIN_LOG_LEVEL=0 and rerun for more info.)\n"
     ]
    },
    {
     "data": {
      "text/plain": [
       "2"
      ]
     },
     "execution_count": 3,
     "metadata": {},
     "output_type": "execute_result"
    }
   ],
   "source": [
    "def f(x):\n",
    "    return [-sum(x**2),-sum(x**3)]\n",
    "def f2(x):\n",
    "    return sum(x**2)\n",
    "fh=hessian(f)\n",
    "a=jnp.array([1.,2.,3.,4.])\n",
    "g=lambda x:sum(fh(x))\n",
    "sum(fh(jnp.array([1.,2.,3.,4.])))\n",
    "g(jnp.array([1.,2.,3.,4.]))\n",
    "fj=jacfwd(f)\n",
    "A=np.vstack(fj(a))\n",
    "np.shape(A)\n",
    "np.hstack([a,1.2])\n",
    "np.shape(f(a))[0]"
   ]
  },
  {
   "cell_type": "code",
   "execution_count": 20,
   "id": "52ab1949",
   "metadata": {},
   "outputs": [],
   "source": [
    "def IPM(f,cons,A,b,x0,lmd=0.1,gamma=2,epsf=1e-4,eps=1e-4,beta=0.5,tau=0.01):\n",
    "    cons_num=np.shape(cons(x0))[0]\n",
    "    A_num=np.shape(A)[0]\n",
    "    x_num=np.shape(x0)[0]\n",
    "    y=np.hstack((x0,lmd*np.ones(cons_num),lmd*np.ones(A_num)))\n",
    "    \n",
    "    # compute hessian and jacobi\n",
    "    f_hess=hessian(f)\n",
    "    f_jac=jacfwd(f)\n",
    "    cons_jac=jacfwd(cons)\n",
    "    cons_jac_mat=lambda x:np.vstack(cons_jac(x))\n",
    "    cons_hess=hessian(cons)\n",
    "    if cons_num>1:\n",
    "        cons_hess_sum=lambda x,lmd:np.average(cons_hess(x),axis=0,weights=lmd)*(sum(lmd)/cons_num)\n",
    "    else:\n",
    "        cons_hess_sum=lambda x,lmd:lmd*cons_hess(x)[0]\n",
    "    \n",
    "    t=1\n",
    "    itr=1\n",
    "    #while 1:\n",
    "    while 1:\n",
    "        # variables\n",
    "        x=y[0:x_num]\n",
    "        lmd=y[x_num:x_num+cons_num]\n",
    "        v=y[x_num+cons_num:]\n",
    "\n",
    "        # assemble matrix\n",
    "        r_dual=f_jac(x)+np.matmul(lmd,cons_jac_mat(x))+np.matmul(v,A)\n",
    "        r_cent=-lmd*cons(x)-1/t\n",
    "        r_pri=np.matmul(A,np.transpose(x))-b\n",
    "        \n",
    "        RH=-np.hstack((r_dual,r_cent,r_pri))\n",
    "        RH_norm=np.linalg.norm(RH)\n",
    "        #print(RH)\n",
    "        \n",
    "        lh11=f_hess(x)+cons_hess_sum(x,lmd)\n",
    "        lh12=np.transpose(cons_jac_mat(x))\n",
    "        lh13=np.transpose(A)\n",
    "        lh21=-np.transpose(lh12*lmd)\n",
    "        lh22=-np.diag(cons(x))\n",
    "        \n",
    "        LH1=np.hstack((lh11,lh12,lh13))\n",
    "        LH2=np.hstack((lh21,lh22,np.zeros((cons_num,A_num))))\n",
    "        LH3=np.hstack((A,np.zeros((A_num,cons_num+A_num))))\n",
    "        \n",
    "        LH=np.vstack((LH1,LH2,LH3))\n",
    "        dy=np.linalg.solve(LH,RH)\n",
    "        # line search\n",
    "        dlmd=dy[x_num:x_num+cons_num]\n",
    "        where_dlmd=np.where(dlmd>=0)\n",
    "        divide=-np.delete(lmd,where_dlmd)/np.delete(dlmd,where_dlmd)\n",
    "        alf_max=1\n",
    "        if np.size(divide):\n",
    "            alf_max=min(1,min(divide))\n",
    "        alf=alf_max*0.99\n",
    "        while 1:\n",
    "            if (sum(np.array(cons(y+alf*dy))>=0)==0):\n",
    "                break\n",
    "            alf=alf*beta\n",
    "        while 1:\n",
    "            y_tmp=y+alf*dy\n",
    "            \n",
    "            x_tmp=y_tmp[0:x_num]\n",
    "            lmd_tmp=y_tmp[x_num:x_num+cons_num]\n",
    "            v_tmp=y_tmp[x_num+cons_num:]\n",
    "            \n",
    "            wr_dual=f_jac(x_tmp)+np.matmul(lmd_tmp,cons_jac_mat(x_tmp))+np.matmul(v_tmp,A)\n",
    "            wr_cent=-lmd_tmp*cons(x_tmp)-1/t\n",
    "            wr_pri=np.matmul(A,np.transpose(x_tmp))-b     \n",
    "            wRH=-np.hstack((wr_dual,wr_cent,wr_pri))\n",
    "            wRH_norm=np.linalg.norm(wRH)\n",
    "            if(wRH_norm<=(1-tau*alf)*RH_norm):\n",
    "                break\n",
    "            alf=alf*beta\n",
    "        print(alf)\n",
    "        y=y+alf*dy\n",
    "        \n",
    "        # variables\n",
    "        x=y[0:x_num]\n",
    "        lmd=y[x_num:x_num+cons_num]\n",
    "        v=y[x_num+cons_num:]\n",
    "        \n",
    "        eta=-np.dot(cons(x),lmd)\n",
    "        # assemble matrix\n",
    "        r_dual=f_jac(x)+np.matmul(lmd,cons_jac_mat(x))+np.matmul(v,A)\n",
    "        r_pri=np.matmul(A,np.transpose(x))-b\n",
    "        \n",
    "        norm_dual=np.linalg.norm(r_dual)\n",
    "        norm_pri=np.linalg.norm(r_pri)\n",
    "        \n",
    "        if((norm_dual<=epsf)&(norm_pri<=epsf)&(eta<=eps)):\n",
    "            break\n",
    "        print(\"iter: \",itr,\"x = \",x,\"t= \",t)\n",
    "        itr=itr+1\n",
    "        t=gamma*cons_num/eta\n",
    "    return x"
   ]
  },
  {
   "cell_type": "code",
   "execution_count": 21,
   "id": "3426bfc1",
   "metadata": {},
   "outputs": [
    {
     "name": "stdout",
     "output_type": "stream",
     "text": [
      "0.495\n",
      "iter:  1 x =  [-0.07115384 -0.07115384] t=  1\n",
      "0.99\n",
      "iter:  2 x =  [-0.01699195 -0.01699195] t=  2.4881316889219387\n",
      "0.99\n",
      "iter:  3 x =  [-0.00256677 -0.00256677] t=  5.035195315098147\n",
      "0.99\n",
      "iter:  4 x =  [-0.00023771 -0.00023771] t=  9.984453325674393\n",
      "0.99\n",
      "iter:  5 x =  [-1.31863738e-05 -1.31863738e-05] t=  19.77187266747699\n",
      "0.99\n",
      "iter:  6 x =  [-4.49088726e-07 -4.49088726e-07] t=  39.1522352446756\n",
      "0.99\n",
      "iter:  7 x =  [-1.00812657e-08 -1.00812657e-08] t=  77.52917877853969\n",
      "0.99\n",
      "iter:  8 x =  [-1.64985682e-10 -1.64985682e-10] t=  153.52312629431586\n",
      "0.99\n",
      "iter:  9 x =  [-2.18362654e-12 -2.18362654e-12] t=  304.00619068181373\n",
      "0.99\n",
      "iter:  10 x =  [-2.54153569e-14 -2.54153569e-14] t=  601.9924567956708\n",
      "0.99\n",
      "iter:  11 x =  [-2.75224326e-16 -2.75224326e-16] t=  1192.0642708825164\n",
      "0.99\n",
      "iter:  12 x =  [-2.8675529e-18 -2.8675529e-18] t=  2360.5233086782505\n",
      "0.99\n",
      "iter:  13 x =  [-2.92825477e-20 -2.92825477e-20] t=  4674.30358154109\n",
      "0.99\n",
      "iter:  14 x =  [-2.9595743e-22 -2.9595743e-22] t=  9256.04669612097\n",
      "0.99\n",
      "[-2.97554571e-24 -2.97554571e-24]\n"
     ]
    }
   ],
   "source": [
    "def rosen(x):\n",
    "    \"\"\"The Rosenbrock function\"\"\"\n",
    "    return x[0]**2+x[1]**2\n",
    "\n",
    "def cons(x):\n",
    "    return [x[0]**2+x[1]**2-1]\n",
    "A=np.array([[1.,-1.]])\n",
    "b=np.array([0.])\n",
    "x0=np.array([0.5, 0.5])\n",
    "x=IPM(rosen,cons,A,b,x0)\n",
    "print(x)\n",
    "#print(np.shape(x0))\n",
    "#cons_hess=hessian(cons)\n",
    "#lmd=np.array([1.,2.,3.])\n",
    "#print(cons_hess(x0))\n",
    "#print(np.average(cons_hess(x0),axis=0,weights=lmd)*(sum(lmd)/3))"
   ]
  },
  {
   "cell_type": "code",
   "execution_count": 25,
   "id": "4c5ffd7a",
   "metadata": {},
   "outputs": [
    {
     "data": {
      "text/plain": [
       "3.3333333333333335"
      ]
     },
     "execution_count": 25,
     "metadata": {},
     "output_type": "execute_result"
    }
   ],
   "source": [
    "10/3"
   ]
  },
  {
   "cell_type": "code",
   "execution_count": 31,
   "id": "3efe1981",
   "metadata": {},
   "outputs": [
    {
     "name": "stdout",
     "output_type": "stream",
     "text": [
      "[[1 0 0 0]\n",
      " [1 0 0 0]\n",
      " [1 0 0 1]\n",
      " [0 0 0 1]]\n"
     ]
    },
    {
     "data": {
      "text/plain": [
       "10.0"
      ]
     },
     "execution_count": 31,
     "metadata": {},
     "output_type": "execute_result"
    }
   ],
   "source": [
    "asd=np.random.randint(0,2,size=(4,4))\n",
    "print(asd)\n",
    "np.matmul(asd,np.transpose(a))\n",
    "np.transpose(np.transpose(asd)*a)\n",
    "np.diag(a)\n",
    "np.hstack((asd,np.zeros((4,4))))\n",
    "np.linalg.norm(a,1)"
   ]
  },
  {
   "cell_type": "code",
   "execution_count": 34,
   "id": "ba9fbc0a",
   "metadata": {},
   "outputs": [
    {
     "data": {
      "text/plain": [
       "True"
      ]
     },
     "execution_count": 34,
     "metadata": {},
     "output_type": "execute_result"
    }
   ],
   "source": [
    "(1>0)&(2>1)"
   ]
  },
  {
   "cell_type": "code",
   "execution_count": 47,
   "id": "80b6ff9c",
   "metadata": {},
   "outputs": [
    {
     "data": {
      "text/plain": [
       "1"
      ]
     },
     "execution_count": 47,
     "metadata": {},
     "output_type": "execute_result"
    }
   ],
   "source": [
    "b=a-2\n",
    "(b<0)*b*a\n",
    "min(1,2)"
   ]
  },
  {
   "cell_type": "code",
   "execution_count": 54,
   "id": "2ba539b4",
   "metadata": {},
   "outputs": [
    {
     "data": {
      "text/plain": [
       "DeviceArray([-1.        ,  0.        ,  0.33333334,  0.5       ], dtype=float32)"
      ]
     },
     "execution_count": 54,
     "metadata": {},
     "output_type": "execute_result"
    }
   ],
   "source": [
    "c=np.where(b==0)\n",
    "np.delete(b,c)\n",
    "b/a"
   ]
  },
  {
   "cell_type": "code",
   "execution_count": 61,
   "id": "77fab177",
   "metadata": {},
   "outputs": [
    {
     "name": "stdout",
     "output_type": "stream",
     "text": [
      "nigger\n"
     ]
    }
   ],
   "source": [
    "if np.sum(b<0,0)>0:\n",
    "    print(\"nigger\")"
   ]
  },
  {
   "cell_type": "code",
   "execution_count": 66,
   "id": "32b46dcd",
   "metadata": {},
   "outputs": [
    {
     "data": {
      "text/plain": [
       "True"
      ]
     },
     "execution_count": 66,
     "metadata": {},
     "output_type": "execute_result"
    }
   ],
   "source": [
    "False==0"
   ]
  },
  {
   "cell_type": "code",
   "execution_count": null,
   "id": "a4e6dcab",
   "metadata": {},
   "outputs": [],
   "source": []
  }
 ],
 "metadata": {
  "kernelspec": {
   "display_name": "Python 3 (ipykernel)",
   "language": "python",
   "name": "python3"
  },
  "language_info": {
   "codemirror_mode": {
    "name": "ipython",
    "version": 3
   },
   "file_extension": ".py",
   "mimetype": "text/x-python",
   "name": "python",
   "nbconvert_exporter": "python",
   "pygments_lexer": "ipython3",
   "version": "3.9.13"
  }
 },
 "nbformat": 4,
 "nbformat_minor": 5
}
