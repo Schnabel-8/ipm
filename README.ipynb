{
 "cells": [
  {
   "cell_type": "markdown",
   "id": "316f1bfb",
   "metadata": {},
   "source": [
    "## 目录结构\n",
    "\n",
    "```\n",
    "├── README.pdf\n",
    "├── report.pdf\n",
    "├── results.pdf\n",
    "├── IPM.ipynb\n",
    "└── src\n",
    "    ├── impl.py\n",
    "    └── __init__.py\n",
    "\n",
    "```\n",
    "\n",
    "## 运行环境\n",
    "\n",
    "`jupyter notebook`\n",
    "\n",
    "`jax`(https://github.com/google/jax)\n",
    "\n",
    "`numpy`\n",
    "\n",
    "`matplotlib`\n",
    "\n",
    "## 使用说明\n",
    "\n",
    "* 只需定义目标函数和约束，不需要输入导数\n",
    "* 具体细节见`IPM.ipynb`"
   ]
  },
  {
   "cell_type": "code",
   "execution_count": null,
   "id": "1687b552",
   "metadata": {},
   "outputs": [],
   "source": []
  }
 ],
 "metadata": {
  "kernelspec": {
   "display_name": "Python 3 (ipykernel)",
   "language": "python",
   "name": "python3"
  },
  "language_info": {
   "codemirror_mode": {
    "name": "ipython",
    "version": 3
   },
   "file_extension": ".py",
   "mimetype": "text/x-python",
   "name": "python",
   "nbconvert_exporter": "python",
   "pygments_lexer": "ipython3",
   "version": "3.9.13"
  }
 },
 "nbformat": 4,
 "nbformat_minor": 5
}
